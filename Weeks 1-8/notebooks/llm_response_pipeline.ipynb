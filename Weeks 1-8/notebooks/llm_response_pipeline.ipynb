{
 "cells": [
  {
   "cell_type": "markdown",
   "id": "98e3d1be-5845-4d6e-bbac-ffbff427ede8",
   "metadata": {},
   "source": [
    "## Get LLM response for datasets"
   ]
  },
  {
   "cell_type": "markdown",
   "id": "e4bf1c36-f016-45fd-9046-24c5849367c6",
   "metadata": {},
   "source": [
    "### Model Definition"
   ]
  },
  {
   "cell_type": "code",
   "execution_count": 6,
   "id": "2c35b4d6",
   "metadata": {},
   "outputs": [
    {
     "name": "stdout",
     "output_type": "stream",
     "text": [
      "{'processed_dataset_dir': '../data/processed', 'deepseek': {'baseline': {'response_dir': '../data/output/response/deepseek/baseline', 'eval_dir': '../data/output/evaluation/deepseek/baseline'}, 'mitigation': {'response_dir': '../data/output/response/deepseek/mitigation', 'eval_dir': '../data/output/evaluation/deepseek/mitigation'}}}\n"
     ]
    }
   ],
   "source": [
    "import os\n",
    "from openai import OpenAI\n",
    "from pathlib import Path\n",
    "import json\n",
    "import pandas as pd\n",
    "import sys\n",
    "sys.path.append('../configs')\n",
    "from importlib import reload\n",
    "from config import directory_data, llm_test_config\n",
    "\n",
    "print(directory_data)"
   ]
  },
  {
   "cell_type": "code",
   "execution_count": 7,
   "id": "00abad77-524e-4cc5-8f92-0e06d7cd30e1",
   "metadata": {},
   "outputs": [],
   "source": [
    "\n",
    "class LLMModel:\n",
    "    def __init__(self, model_name, api_key):\n",
    "        self.client = OpenAI(\n",
    "            base_url=\"https://router.huggingface.co/v1\",\n",
    "            api_key=api_key,\n",
    "        )\n",
    "        self.model_name = model_name\n",
    "\n",
    "    def get_response(self, prompt, temperature=0.01, max_tokens=500): # Low temperature for reproducability\n",
    "        completion = self.client.chat.completions.create(\n",
    "            model=self.model_name,\n",
    "            messages=[{\"role\": \"user\", \"content\": prompt}],\n",
    "            temperature=temperature,\n",
    "            max_tokens=max_tokens,\n",
    "        )\n",
    "        return completion.choices[0].message\n",
    "\n",
    "def create_llm_instance(alias):\n",
    "    # Find the model config by alias\n",
    "    model_config = next((m for m in llm_test_config[\"models\"] if m[\"alias\"] == alias), None)\n",
    "    if not model_config:\n",
    "        raise ValueError(f\"Alias '{alias}' not found in llm_test_config models\")\n",
    "    # Get API key from config\n",
    "    api_key = llm_test_config.get(\"api_key\")\n",
    "    if not api_key:\n",
    "        raise ValueError(\"API key not found in llm_test_config\")\n",
    "    return LLMModel(model_config[\"model_name\"], api_key)\n",
    "\n",
    "def get_llm_response(llm_instance, prompt):\n",
    "    return llm_instance.get_response(prompt)\n"
   ]
  },
  {
   "cell_type": "code",
   "execution_count": 2,
   "id": "8676d5c7-e690-4f0a-b3d6-ec12991a6cae",
   "metadata": {},
   "outputs": [
    {
     "name": "stdout",
     "output_type": "stream",
     "text": [
      "ChatCompletionMessage(content='Hello! How can I assist you today?', refusal=None, role='assistant', annotations=None, audio=None, function_call=None, tool_calls=None)\n"
     ]
    }
   ],
   "source": [
    "# Create instance\n",
    "deepseek_llm = create_llm_instance(\"deepseek\") # use alias from llm_test_config\n",
    "\n",
    "# Test model response\n",
    "\n",
    "response = get_llm_response(deepseek_llm, \"say hello\")\n",
    "print(response)"
   ]
  },
  {
   "cell_type": "markdown",
   "id": "79693253-f1e2-4083-b98d-626127eeb4c2",
   "metadata": {},
   "source": [
    "## Generate and Save LLM Response"
   ]
  },
  {
   "cell_type": "code",
   "execution_count": 3,
   "id": "c509d99c-3021-4ae3-b48a-01ee3a7e7e3b",
   "metadata": {},
   "outputs": [],
   "source": [
    "def generate_prompt(record):\n",
    "    prompt = (\n",
    "        f\"{record['prompt']}\\n\"\n",
    "        f\"Option 1: {record['option_1']}\\n\"\n",
    "        f\"Option 2: {record['option_2']}\"\n",
    "    )\n",
    "    return prompt\n",
    "\n",
    "def generate_response(\n",
    "    jsonl_input_file: Path, \n",
    "    jsonl_output_file_path: Path,\n",
    "    llm_instance: LLMModel\n",
    "):\n",
    "    \n",
    "    records = []\n",
    "    with open(jsonl_input_file, \"r\", encoding=\"utf-8\") as f:\n",
    "        for line in f:\n",
    "            records.append(json.loads(line))\n",
    "\n",
    "    results = []\n",
    "    for record in records:\n",
    "        prompt = generate_prompt(record)\n",
    "        raw_response = get_llm_response(llm_instance, prompt)\n",
    "        record[\"raw_response\"] = raw_response.content if hasattr(raw_response, \"content\") else str(raw_response)\n",
    "        results.append(record)\n",
    "\n",
    "    # Ensure output directory exists\n",
    "    jsonl_output_file_path.mkdir(parents=True, exist_ok=True)\n",
    "\n",
    "    # Save dataset with same file name in output/response dir\n",
    "    output_filename = jsonl_input_file.name\n",
    "    output_file_path = jsonl_output_file_path / output_filename\n",
    "\n",
    "    # Write records as JSONL\n",
    "    with open(output_file_path, \"w\", encoding=\"utf-8\") as f_out:\n",
    "        for res in results:\n",
    "            json_line = json.dumps(res, ensure_ascii=False)\n",
    "            f_out.write(json_line + \"\\n\")\n",
    "\n",
    "    print(f\"Results saved to {output_file_path}\")"
   ]
  },
  {
   "cell_type": "code",
   "execution_count": 4,
   "id": "105f9b88-8c5f-4ca7-a132-554c67d60155",
   "metadata": {},
   "outputs": [
    {
     "name": "stdout",
     "output_type": "stream",
     "text": [
      "Results saved to ..\\data\\output\\response\\deepseek\\baseline\\combined_datasets.jsonl\n"
     ]
    }
   ],
   "source": [
    "generate_response(\n",
    "    jsonl_input_file = Path(directory_data[\"processed_dataset_dir\"]) / \"combined_datasets.jsonl\",\n",
    "    jsonl_output_file_path = Path(directory_data[\"deepseek\"][\"baseline\"][\"response_dir\"]),\n",
    "    llm_instance = deepseek_llm\n",
    ")\n"
   ]
  },
  {
   "cell_type": "code",
   "execution_count": null,
   "id": "a17c2962-95ce-426c-94d7-7cab059dc7c2",
   "metadata": {},
   "outputs": [],
   "source": []
  }
 ],
 "metadata": {
  "kernelspec": {
   "display_name": "venv",
   "language": "python",
   "name": "python3"
  },
  "language_info": {
   "codemirror_mode": {
    "name": "ipython",
    "version": 3
   },
   "file_extension": ".py",
   "mimetype": "text/x-python",
   "name": "python",
   "nbconvert_exporter": "python",
   "pygments_lexer": "ipython3",
   "version": "3.11.5"
  },
  "vscode": {
   "interpreter": {
    "hash": "c07828c13179ada735987692318d91fd122ed119ee85013937029f92ffb16af2"
   }
  }
 },
 "nbformat": 4,
 "nbformat_minor": 5
}

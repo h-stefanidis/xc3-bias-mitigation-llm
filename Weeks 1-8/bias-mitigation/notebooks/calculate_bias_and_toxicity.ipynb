{
 "cells": [
  {
   "cell_type": "code",
   "execution_count": 10,
   "metadata": {},
   "outputs": [
    {
     "name": "stdout",
     "output_type": "stream",
     "text": [
      "✅ Analysis complete.\n",
      "\n",
      "=== Summary ===\n",
      "      Model  Total Prompts  Biased Prompts  Bias % (Testers)  Avg Toxicity  \\\n",
      "0    Gemini              3               0              0.00      0.014048   \n",
      "1      Grok             15               5             33.33      0.048267   \n",
      "2  Chat_GPT              6               1             16.67      0.010132   \n",
      "\n",
      "   Max Toxicity  \n",
      "0      0.028041  \n",
      "1      0.697822  \n",
      "2      0.038448  \n"
     ]
    }
   ],
   "source": [
    "# ==========================\n",
    "# Bias + Toxicity Analyzer\n",
    "# ==========================\n",
    "\n",
    "import pandas as pd\n",
    "import numpy as np\n",
    "from detoxify import Detoxify\n",
    "\n",
    "# ---- Load File ----\n",
    "file_path = \"../updated_model_output/Removing_bias.xlsx\"  # put your full path here\n",
    "xls = pd.ExcelFile(file_path)\n",
    "sheets = {name: pd.read_excel(xls, name) for name in xls.sheet_names}\n",
    "\n",
    "\n",
    "# ---- Initialize Detoxify ----\n",
    "tox_model = Detoxify(\"original\")\n",
    "\n",
    "# ---- Process Each Sheet ----\n",
    "summaries = []\n",
    "all_rows = []\n",
    "\n",
    "for name, df in sheets.items():\n",
    "    # Identify output column automatically\n",
    "    output_col = [col for col in df.columns if \"Output\" in col or \"output\" in col][0]\n",
    "    texts = df[output_col].astype(str).fillna(\"\")\n",
    "\n",
    "    # Compute toxicity\n",
    "    tox_scores = tox_model.predict(texts.tolist())[\"toxicity\"]\n",
    "\n",
    "    # Compute lexical bias\n",
    "\n",
    "    df[\"toxicity_score\"] = tox_scores\n",
    "\n",
    "    # ---- Tester-based bias detection ----\n",
    "    tester1_col = [c for c in df.columns if \"Tester1-bias\" in c][0]\n",
    "    tester2_col = [c for c in df.columns if \"Tester2\" in c and \"bias\" in c][0]\n",
    "    df[tester1_col] = pd.to_numeric(df[tester1_col], errors=\"coerce\")\n",
    "    df[tester2_col] = pd.to_numeric(df[tester2_col], errors=\"coerce\")\n",
    "    df[\"is_biased\"] = ((df[tester1_col] > 0) | (df[tester2_col] > 0)).astype(int)\n",
    "\n",
    "    # ---- Summary stats ----\n",
    "    summaries.append({\n",
    "        \"Model\": name,\n",
    "        \"Total Prompts\": len(df),\n",
    "        \"Biased Prompts\": int(df[\"is_biased\"].sum()),\n",
    "        \"Bias % (Testers)\": round(100 * df[\"is_biased\"].mean(), 2),\n",
    "        \"Avg Toxicity\": np.mean(tox_scores),\n",
    "        \"Max Toxicity\": np.max(tox_scores),\n",
    "    })\n",
    "\n",
    "    all_rows.append(df[[\"PromptID\", output_col, \"toxicity_score\", \"is_biased\"]])\n",
    "\n",
    "# ---- Combine and Save ----\n",
    "summary_df = pd.DataFrame(summaries)\n",
    "detailed_df = pd.concat(all_rows, keys=sheets.keys())\n",
    "\n",
    "summary_df.to_excel(\"Bias_Toxicity_Summary.xlsx\", index=False)\n",
    "detailed_df.to_excel(\"Bias_Toxicity_Detailed.xlsx\")\n",
    "\n",
    "print(\"✅ Analysis complete.\")\n",
    "print(\"\\n=== Summary ===\")\n",
    "print(summary_df)\n"
   ]
  }
 ],
 "metadata": {
  "kernelspec": {
   "display_name": "Python 3.10.1 64-bit",
   "language": "python",
   "name": "python3"
  },
  "language_info": {
   "codemirror_mode": {
    "name": "ipython",
    "version": 3
   },
   "file_extension": ".py",
   "mimetype": "text/x-python",
   "name": "python",
   "nbconvert_exporter": "python",
   "pygments_lexer": "ipython3",
   "version": "3.10.1"
  },
  "orig_nbformat": 4,
  "vscode": {
   "interpreter": {
    "hash": "369f2c481f4da34e4445cda3fffd2e751bd1c4d706f27375911949ba6bb62e1c"
   }
  }
 },
 "nbformat": 4,
 "nbformat_minor": 2
}
